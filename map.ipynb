{
 "cells": [
  {
   "cell_type": "code",
   "execution_count": null,
   "metadata": {},
   "outputs": [],
   "source": [
    "import requests\n",
    "import numpy as np\n",
    "from PIL import Image\n",
    "import matplotlib.pyplot as plt\n",
    "from osgeo import gdal"
   ]
  },
  {
   "cell_type": "code",
   "execution_count": null,
   "metadata": {},
   "outputs": [],
   "source": [
    "# Get map data from OpenTopography, check response\n",
    "%%time\n",
    "resp = requests.get(\n",
    "    'https://portal.opentopography.org/API'\n",
    "    '/globaldem?demtype=SRTMGL3'\n",
    "    '&south=45.55'\n",
    "    '&north=49'\n",
    "    '&west=-124.77'\n",
    "    '&east=-116.92'\n",
    "    '&outputFormat=GTiff')\n",
    "resp"
   ]
  },
  {
   "cell_type": "code",
   "execution_count": null,
   "metadata": {},
   "outputs": [],
   "source": [
    "# Save response (map data) as raster\n",
    "with open('map.tiff', 'wb') as f:\n",
    "    f.write(resp.content)"
   ]
  },
  {
   "cell_type": "code",
   "execution_count": null,
   "metadata": {},
   "outputs": [],
   "source": [
    "data = Image.open('map.tiff') # Open map data as image\n",
    "np_map = np.maximum(0, np.array(data)) ** 0.8 # Convert to array, remove negative values, nerf large mountains\n",
    "pad_val = 1000\n",
    "pad = (pad_val,pad_val),(pad_val,pad_val)\n",
    "np_map = np.pad(np_map, pad, 'constant', constant_values=np_map.min()) # Create a border\n",
    "np_map[np_map <= 0] = -200 # Drop sea level (for more visible coastline)"
   ]
  },
  {
   "cell_type": "code",
   "execution_count": null,
   "metadata": {},
   "outputs": [],
   "source": [
    "# Peek map\n",
    "plt.figure(figsize=(20,10))\n",
    "plt.imshow(np_map, cmap='gray')\n",
    "plt.colorbar()\n",
    "plt.show()"
   ]
  },
  {
   "cell_type": "code",
   "execution_count": null,
   "metadata": {},
   "outputs": [],
   "source": [
    "np_map.min(), np_map.max()"
   ]
  },
  {
   "cell_type": "code",
   "execution_count": null,
   "metadata": {},
   "outputs": [],
   "source": [
    "# Convert to int array for Blender\n",
    "norm_map = ((np_map - np_map.min()) * 65000 / (np_map.max() - np_map.min())).astype('uint16') \n",
    "plt.figure(figsize=(20,10))\n",
    "plt.imshow(norm_map, cmap='gray')\n",
    "plt.colorbar()\n",
    "plt.show()"
   ]
  },
  {
   "cell_type": "code",
   "execution_count": null,
   "metadata": {},
   "outputs": [],
   "source": [
    "Image.fromarray(norm_map).save('map_norm.tiff') # Save map for use in blender"
   ]
  },
  {
   "cell_type": "code",
   "execution_count": null,
   "metadata": {},
   "outputs": [],
   "source": [
    "norm_map.shape # Dimensions for use in Blender"
   ]
  }
 ],
 "metadata": {
  "kernelspec": {
   "display_name": "map",
   "language": "python",
   "name": "map"
  },
  "language_info": {
   "codemirror_mode": {
    "name": "ipython",
    "version": 3
   },
   "file_extension": ".py",
   "mimetype": "text/x-python",
   "name": "python",
   "nbconvert_exporter": "python",
   "pygments_lexer": "ipython3",
   "version": "3.8.5"
  }
 },
 "nbformat": 4,
 "nbformat_minor": 4
}
